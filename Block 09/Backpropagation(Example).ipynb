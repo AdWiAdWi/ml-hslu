{
 "cells": [
  {
   "cell_type": "markdown",
   "metadata": {},
   "source": [
    "## Example Backpropagation "
   ]
  },
  {
   "cell_type": "markdown",
   "metadata": {},
   "source": [
    "by Prof. Dr. Josef Bürgler"
   ]
  },
  {
   "cell_type": "code",
   "execution_count": 90,
   "metadata": {},
   "outputs": [],
   "source": [
    "W1 = [-2 -2; 3 3];\n",
    "b1 = [2 2]';\n",
    "W2 = [-2 -4; 2 2];\n",
    "b2 = [3 -2]';\n",
    "\n",
    "% sigmoid function\n",
    "sigma = @(z) 1./(1+exp(-z));\n",
    "\n",
    "% derivative of sigmoid function (not used)\n",
    "sigmaprime = @(z) sigma(z).*(1-sigma(z));"
   ]
  },
  {
   "cell_type": "code",
   "execution_count": 91,
   "metadata": {},
   "outputs": [],
   "source": [
    "x = [0.1, 0.9]';   % input\n",
    "y = [0, 1]';       % desired output\n",
    "eta = 0.9;        % learing rate"
   ]
  },
  {
   "cell_type": "code",
   "execution_count": 92,
   "metadata": {},
   "outputs": [
    {
     "name": "stdout",
     "output_type": "stream",
     "text": [
      "error =  0.059717\n",
      "error =  0.042283\n",
      "error =  0.034513\n",
      "error =  0.029877\n",
      "error =  0.026714\n",
      "error =  0.024381\n",
      "error =  0.022568\n",
      "error =  0.021108\n",
      "error =  0.019898\n",
      "error =  0.018876\n",
      "ans =  0.018876\n"
     ]
    }
   ],
   "source": [
    "a0 = x;           % initalize\n",
    "\n",
    "for i=1:1000\n",
    "\n",
    "    % forward sweep / forward propagation\n",
    "    a1 = sigma(W1*a0+b1);\n",
    "    a2 = sigma(W2*a1+b2);\n",
    "    \n",
    "    delta2 = -(y-a2).*a2.*(1-a2);     % delta in der Ausgabeschicht berechnet \n",
    "    b2 = b2 - eta.*delta2;            % korrektur von bias Vektor in der zweiten Schicht\n",
    "    delta1 = a1.*(1-a1).*W2'*delta2;  % delta in der ersten Schicht berechnen\n",
    "    W2 = W2 - eta.*delta2*a1';        % gewichtsfunktion im zweiten Layer anpassen\n",
    "    b1 = b1 - eta.*delta1;            % korrektur von bias Vektor im ersten Layer\n",
    "    W1 = W1 - eta.*delta1*a0';        % gewichtsfunktion im ersten Layer anpassen\n",
    "    \n",
    "    if (rem(i, 100) == 0)\n",
    "        error = norm(a2-y)\n",
    "    endif\n",
    "endfor\n",
    "norm(a2-y)"
   ]
  }
 ],
 "metadata": {
  "kernelspec": {
   "display_name": "Octave",
   "language": "octave",
   "name": "octave"
  },
  "language_info": {
   "file_extension": ".m",
   "help_links": [
    {
     "text": "GNU Octave",
     "url": "https://www.gnu.org/software/octave/support.html"
    },
    {
     "text": "Octave Kernel",
     "url": "https://github.com/Calysto/octave_kernel"
    },
    {
     "text": "MetaKernel Magics",
     "url": "https://metakernel.readthedocs.io/en/latest/source/README.html"
    }
   ],
   "mimetype": "text/x-octave",
   "name": "octave",
   "version": "5.2.0"
  }
 },
 "nbformat": 4,
 "nbformat_minor": 4
}
